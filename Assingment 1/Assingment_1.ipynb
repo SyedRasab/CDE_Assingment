{
  "nbformat": 4,
  "nbformat_minor": 0,
  "metadata": {
    "colab": {
      "provenance": []
    },
    "kernelspec": {
      "name": "python3",
      "display_name": "Python 3"
    },
    "language_info": {
      "name": "python"
    }
  },
  "cells": [
    {
      "cell_type": "code",
      "execution_count": null,
      "metadata": {
        "colab": {
          "base_uri": "https://localhost:8080/"
        },
        "id": "aVQvUsIgRk2e",
        "outputId": "d9863f8e-3dad-4dc0-f0f9-acfb4f8a60fc"
      },
      "outputs": [
        {
          "output_type": "stream",
          "name": "stdout",
          "text": [
            "My Name:\tSYED RASAB UL HAQUE\n",
            "Father Name:\tSYED IKRAM UL HAQUE\n",
            "Date of Birth:\t27-06-2004\n"
          ]
        }
      ],
      "source": [
        "print(\"My Name:\\tSYED RASAB UL HAQUE\\nFather Name:\\tSYED IKRAM UL HAQUE\\nDate of Birth:\\t27-06-2004\")\n"
      ]
    },
    {
      "cell_type": "code",
      "source": [
        "name = \"Syed Rasab Ul Haque\"\n",
        "father_name = \"Syed Ikram Ul Haque\"\n",
        "dob = \"01-01-2000\"\n",
        "hobby = \"Learning AI and Python\"\n",
        "goal = \"Become an expert in AI and Cybersecurity\"\n",
        "\n",
        "print(\"Name:\\t\\t\", name)\n",
        "print(\"Father Name:\\t\", father_name)\n",
        "print(\"Date of Birth:\\t\", dob)\n",
        "print(\"Hobby:\\t\\t\", hobby)\n",
        "print(\"Goal:\\t\\t\", goal)\n"
      ],
      "metadata": {
        "colab": {
          "base_uri": "https://localhost:8080/"
        },
        "id": "tisrmDOeSvXp",
        "outputId": "10fe4e7d-fa0e-485e-97e9-fbf9d8d6198c"
      },
      "execution_count": null,
      "outputs": [
        {
          "output_type": "stream",
          "name": "stdout",
          "text": [
            "Name:\t\t Syed Rasab Ul Haque\n",
            "Father Name:\t Syed Ikram Ul Haque\n",
            "Date of Birth:\t 01-01-2000\n",
            "Hobby:\t\t Learning AI and Python\n",
            "Goal:\t\t Become an expert in AI and Cybersecurity\n"
          ]
        }
      ]
    },
    {
      "cell_type": "code",
      "source": [
        "n=int(input(\"Enter the first Number\"))\n",
        "m=int(input(\"Enter the second Number\"))\n",
        "print(\"Addition of your number is \",n+m)\n",
        "print(\"Subtraction of your number is \",n-m)\n",
        "print(\"Multiplication of your number is \",n*m)\n",
        "print(\"Division of your number is \",n/m)"
      ],
      "metadata": {
        "colab": {
          "base_uri": "https://localhost:8080/"
        },
        "id": "sJEIL73kT2vS",
        "outputId": "9ec8a0e4-4e08-487f-bb41-cdeb39279aa0"
      },
      "execution_count": null,
      "outputs": [
        {
          "output_type": "stream",
          "name": "stdout",
          "text": [
            "Enter the first Number5\n",
            "Enter the second Number5\n",
            "Addition of your number is  10\n",
            "Subtraction of your number is  0\n",
            "Multiplication of your number is  25\n",
            "Division of your number is  1.0\n"
          ]
        }
      ]
    },
    {
      "cell_type": "code",
      "source": [
        "ENGLISH = 80\n",
        "ISLAMIAT = 95\n",
        "MATHS = 60\n",
        "Total_marks = ENGLISH+ISLAMIAT+MATHS\n",
        "marks =print(f\"The Total Marks are:\\t{ENGLISH+ISLAMIAT+MATHS} /300\")\n",
        "percentage = (Total_marks  / 300) * 100\n",
        "print(f\"Percentage:\\t\\t{percentage:.2f}%\")\n"
      ],
      "metadata": {
        "colab": {
          "base_uri": "https://localhost:8080/"
        },
        "id": "vDTANJh1Wegm",
        "outputId": "3a08a875-62dc-4712-9763-0692a222969b"
      },
      "execution_count": null,
      "outputs": [
        {
          "output_type": "stream",
          "name": "stdout",
          "text": [
            "The Total Marks are:\t235 /300\n",
            "Percentage:\t\t78.33%\n"
          ]
        }
      ]
    },
    {
      "cell_type": "code",
      "source": [
        "salary = int(input(\"Enter your salary \"))\n",
        "year_of_service = int(input(\"Enter your year of service \"))\n",
        "if (year_of_service >= 5 ):\n",
        "    print(\"You will get increment of 5% \")\n",
        "    incremented = salary * 0.05\n",
        "    new_salary = salary + incremented\n",
        "    print(\"You will get increment of \" , incremented)\n",
        "    print(\"Your Final salary is \", new_salary )\n",
        "else:\n",
        "    print(\"You will not get increment\")\n",
        "    print(\"Your Final salary is \", salary)"
      ],
      "metadata": {
        "colab": {
          "base_uri": "https://localhost:8080/"
        },
        "id": "Yl2vppXyYjVI",
        "outputId": "f33bf492-71ad-40eb-a550-3f7eb041d896"
      },
      "execution_count": null,
      "outputs": [
        {
          "output_type": "stream",
          "name": "stdout",
          "text": [
            "Enter your salary 50000\n",
            "Enter your year of service 3\n",
            "You will not get increment\n",
            "Your Final salary is  50000\n"
          ]
        }
      ]
    },
    {
      "cell_type": "code",
      "source": [
        "age = int(input(\"Enter Your Age \"))\n",
        "if (age > 17):\n",
        "    print(\"You are eligible to vote\")\n",
        "else:\n",
        "    print(\"You are not eligible to vote\")\n"
      ],
      "metadata": {
        "colab": {
          "base_uri": "https://localhost:8080/"
        },
        "id": "TkXKd86Ta_m8",
        "outputId": "ee30c119-f108-4805-d0ce-d3955f2b1073"
      },
      "execution_count": null,
      "outputs": [
        {
          "output_type": "stream",
          "name": "stdout",
          "text": [
            "Enter Your Age 25\n",
            "You are eligible to vote\n"
          ]
        }
      ]
    },
    {
      "cell_type": "code",
      "source": [
        "number = int(input(\"enter the number \"))\n",
        "if (number % 2 ==0  ):\n",
        "    print(\"The number is even\")\n",
        "else:\n",
        "    print(\"The number is odd\")"
      ],
      "metadata": {
        "colab": {
          "base_uri": "https://localhost:8080/"
        },
        "id": "VHJRAOhygXoG",
        "outputId": "5290e283-ad33-462d-f090-fabca3ad7720"
      },
      "execution_count": null,
      "outputs": [
        {
          "output_type": "stream",
          "name": "stdout",
          "text": [
            "enter the number 5\n",
            "The number is odd\n"
          ]
        }
      ]
    },
    {
      "cell_type": "code",
      "source": [
        "number = int(input(\"enter the number \"))\n",
        "if (number % 7 ==0  ):\n",
        "    print(\"The number is divisible by 7\")\n",
        "else:\n",
        "    print(\"The number is not divisible by 7\")"
      ],
      "metadata": {
        "colab": {
          "base_uri": "https://localhost:8080/"
        },
        "id": "Dnp7a4Dmh9ux",
        "outputId": "070bd547-9967-4094-d3f6-1daf95806dd4"
      },
      "execution_count": null,
      "outputs": [
        {
          "output_type": "stream",
          "name": "stdout",
          "text": [
            "enter the number 5\n",
            "The number is not divisible by 7\n"
          ]
        }
      ]
    },
    {
      "cell_type": "code",
      "source": [
        "number = int(input(\"enter the number \"))\n",
        "if (number % 5 ==0 ):\n",
        "    print(\"Hello\")\n",
        "else:\n",
        "    print(\"Bye\")"
      ],
      "metadata": {
        "colab": {
          "base_uri": "https://localhost:8080/"
        },
        "id": "tRwcNeN3ivxs",
        "outputId": "ca8fa713-84ef-4c0a-c182-89a9b2522ac5"
      },
      "execution_count": null,
      "outputs": [
        {
          "output_type": "stream",
          "name": "stdout",
          "text": [
            "enter the number 6\n",
            "Bye\n"
          ]
        }
      ]
    },
    {
      "cell_type": "code",
      "source": [
        "digit = int(input(\"Enter the number \"))\n",
        "last_digit = digit %10\n",
        "print(\"The last digit is \",last_digit)\n",
        "\n"
      ],
      "metadata": {
        "colab": {
          "base_uri": "https://localhost:8080/"
        },
        "id": "cVeX2VEGjMGD",
        "outputId": "ec41cef8-5443-4878-b8bc-bc889cb5964d"
      },
      "execution_count": null,
      "outputs": [
        {
          "output_type": "stream",
          "name": "stdout",
          "text": [
            "Enter the number 45\n",
            "The last digit is  5\n"
          ]
        }
      ]
    },
    {
      "cell_type": "code",
      "source": [
        "lenght = int(input(\"Enter the lenght \"))\n",
        "width = int(input(\"Enter the width \"))\n",
        "if (lenght == width):\n",
        "    print(\"It is a square\")\n",
        "else:\n",
        "    print(\"It is a rectangle\")"
      ],
      "metadata": {
        "colab": {
          "base_uri": "https://localhost:8080/"
        },
        "id": "dMF31PNClffB",
        "outputId": "7457826e-f0fa-46fa-ec6d-eaa36c8ae2dc"
      },
      "execution_count": null,
      "outputs": [
        {
          "output_type": "stream",
          "name": "stdout",
          "text": [
            "Enter the lenght 87\n",
            "Enter the width 65\n",
            "It is a rectangle\n"
          ]
        }
      ]
    },
    {
      "cell_type": "code",
      "source": [
        "value_1 = int(input(\"Enter the Number \"))\n",
        "value_2 = int(input(\"Enter the Number \"))\n",
        "if (value_1 > value_2):\n",
        "    print(\"This is the greater value \",value_1)\n",
        "else:\n",
        "    print(\"This is greater value \", value_2)"
      ],
      "metadata": {
        "colab": {
          "base_uri": "https://localhost:8080/"
        },
        "id": "MixIQ_JhmUf6",
        "outputId": "31b1fc9e-d26e-47de-f944-42f93958d83b"
      },
      "execution_count": null,
      "outputs": [
        {
          "output_type": "stream",
          "name": "stdout",
          "text": [
            "Enter the Number 45\n",
            "Enter the Number 1\n",
            "This is the greater value  45\n"
          ]
        }
      ]
    },
    {
      "cell_type": "code",
      "source": [
        "quantity = int(input(\"How Much Quantity do you want? \"))\n",
        "unit = 100\n",
        "total_cost = quantity * unit\n",
        "discounted = total_cost* 0.10\n",
        "if (quantity >=1000):\n",
        "    print(\"You will get 10% discount\", total_cost - discounted)\n",
        "\n",
        "else:\n",
        "    print(\"You will not get any discount\")"
      ],
      "metadata": {
        "colab": {
          "base_uri": "https://localhost:8080/"
        },
        "id": "NTirUL1RnFEM",
        "outputId": "09f847ec-28e1-4b1f-aaad-16d746bdfafc"
      },
      "execution_count": null,
      "outputs": [
        {
          "output_type": "stream",
          "name": "stdout",
          "text": [
            "How Much Quantity do you want? 8000\n",
            "You will get 10% discount 720000.0\n"
          ]
        }
      ]
    },
    {
      "cell_type": "code",
      "source": [
        "marks = int(input(\"Enter your marks: \"))\n",
        "\n",
        "if marks < 25:\n",
        "    grade = \"F\"\n",
        "elif marks >= 25 and marks < 45:\n",
        "    grade = \"E\"\n",
        "elif marks >= 45 and marks < 50:\n",
        "    grade = \"D\"\n",
        "elif marks >= 50 and marks < 60:\n",
        "    grade = \"C\"\n",
        "elif marks >= 60 and marks <= 80:\n",
        "    grade = \"B\"\n",
        "else:\n",
        "    grade = \"A\"\n",
        "\n",
        "print(f\"Your grade is: {grade}\")\n"
      ],
      "metadata": {
        "colab": {
          "base_uri": "https://localhost:8080/"
        },
        "id": "RluIyUhBpAt1",
        "outputId": "3069f168-1e4d-4350-f73e-f1a1bb6e1614"
      },
      "execution_count": null,
      "outputs": [
        {
          "output_type": "stream",
          "name": "stdout",
          "text": [
            "Enter your marks: 55\n",
            "Your grade is: C\n"
          ]
        }
      ]
    },
    {
      "cell_type": "code",
      "source": [
        "classes_held = int(input(\"Enter the number of classes held: \"))\n",
        "classes_attended = int(input(\"Enter the number of classes attended: \"))\n",
        "\n",
        "attendance = (classes_attended / classes_held) * 100\n",
        "\n",
        "print(f\"Attendance Percentage: {attendance:.2f}%\")\n",
        "\n",
        "if attendance >= 75:\n",
        "    print(\" Student is allowed to sit in the exam.\")\n",
        "else:\n",
        "    print(\" Student is NOT allowed to sit in the exam.\")\n"
      ],
      "metadata": {
        "colab": {
          "base_uri": "https://localhost:8080/"
        },
        "id": "4dKvk84gsK-t",
        "outputId": "b60191b3-0023-498e-c975-3b17f4af78e2"
      },
      "execution_count": null,
      "outputs": [
        {
          "output_type": "stream",
          "name": "stdout",
          "text": [
            "Enter the number of classes held: 60\n",
            "Enter the number of classes attended: 50\n",
            "Attendance Percentage: 83.33%\n",
            " Student is allowed to sit in the exam.\n"
          ]
        }
      ]
    },
    {
      "cell_type": "code",
      "source": [
        "classes_held = int(input(\"Enter the number of classes held: \"))\n",
        "classes_attended = int(input(\"Enter the number of classes attended: \"))\n",
        "\n",
        "attendance = (classes_attended / classes_held) * 100\n",
        "\n",
        "print(f\"Attendance Percentage: {attendance:.2f}%\")\n",
        "\n",
        "if attendance >= 75:\n",
        "    print(\" Student is allowed to sit in the exam.\")\n",
        "else:\n",
        "    medical = input(\"Do you have a medical cause? (Y/N): \").upper()\n",
        "    if medical == \"Y\":\n",
        "        print(\" Student is allowed to sit in the exam due to medical cause.\")\n",
        "    else:\n",
        "        print(\" Student is NOT allowed to sit in the exam.\")\n"
      ],
      "metadata": {
        "colab": {
          "base_uri": "https://localhost:8080/"
        },
        "id": "oWwR7MOiwpy6",
        "outputId": "4699611c-35ff-4836-8ad7-232c08ee13ce"
      },
      "execution_count": null,
      "outputs": [
        {
          "output_type": "stream",
          "name": "stdout",
          "text": [
            "Enter the number of classes held: 55\n",
            "Enter the number of classes attended: 40\n",
            "Attendance Percentage: 72.73%\n",
            "Do you have a medical cause? (Y/N): y\n",
            " Student is allowed to sit in the exam due to medical cause.\n"
          ]
        }
      ]
    },
    {
      "cell_type": "code",
      "source": [
        "year = int(input(\"Enter a year: \"))\n",
        "\n",
        "if (year % 400 == 0) or (year % 4 == 0 and year % 100 != 0):\n",
        "    print(f\"{year} is a Leap Year \")\n",
        "else:\n",
        "    print(f\"{year} is NOT a Leap Year \")\n"
      ],
      "metadata": {
        "colab": {
          "base_uri": "https://localhost:8080/"
        },
        "id": "XGWW5rvzw9V6",
        "outputId": "90b05467-d3d6-45eb-e4af-61b850dd46c0"
      },
      "execution_count": null,
      "outputs": [
        {
          "output_type": "stream",
          "name": "stdout",
          "text": [
            "Enter a year: 2025\n",
            "2025 is NOT a Leap Year \n"
          ]
        }
      ]
    },
    {
      "cell_type": "code",
      "source": [
        "age = int(input(\"Enter your age: \"))\n",
        "gender = input(\"Enter your gender (M/F): \").upper()\n",
        "marital_status = input(\"Enter marital status (Y/N): \").upper()\n",
        "\n",
        "if gender == \"F\":\n",
        "    print(\"You will work only in Urban areas.\")\n",
        "elif gender == \"M\":\n",
        "    if 20 <= age <= 40:\n",
        "        print(\"You may work anywhere.\")\n",
        "    elif 40 < age <= 60:\n",
        "        print(\"You will work only in Urban areas.\")\n",
        "    else:\n",
        "        print(\"ERROR: Invalid age input.\")\n",
        "else:\n",
        "    print(\"ERROR: Invalid gender input.\")\n"
      ],
      "metadata": {
        "colab": {
          "base_uri": "https://localhost:8080/"
        },
        "id": "w9Im1CfNxPxf",
        "outputId": "c7908233-dcbd-43ef-ac00-2cce4f7689b8"
      },
      "execution_count": null,
      "outputs": [
        {
          "output_type": "stream",
          "name": "stdout",
          "text": [
            "Enter your age: 45\n",
            "Enter your gender (M/F): m\n",
            "Enter marital status (Y/N): n\n",
            "You will work only in Urban areas.\n"
          ]
        }
      ]
    },
    {
      "cell_type": "code",
      "source": [
        "units = int(input(\"Enter number of units consumed: \"))\n",
        "\n",
        "bill = 0\n",
        "\n",
        "if units <= 100:\n",
        "    bill = 0\n",
        "elif units <= 300:\n",
        "    bill = (units - 100) * 5\n",
        "else:\n",
        "    bill = (200 * 5) + ((units - 300) * 10)\n",
        "\n",
        "print(f\"Total Electricity Bill: Rs.{bill}\")\n"
      ],
      "metadata": {
        "colab": {
          "base_uri": "https://localhost:8080/"
        },
        "id": "YN7FlwPBxjUO",
        "outputId": "0d1b7097-3fd1-4c1e-965f-4348036d1572"
      },
      "execution_count": null,
      "outputs": [
        {
          "output_type": "stream",
          "name": "stdout",
          "text": [
            "Enter number of units consumed: 7888\n",
            "Total Electricity Bill: Rs.76880\n"
          ]
        }
      ]
    },
    {
      "cell_type": "code",
      "source": [
        "age1 = int(input(\"Enter age of person 1: \"))\n",
        "age2 = int(input(\"Enter age of person 2: \"))\n",
        "age3 = int(input(\"Enter age of person 3: \"))\n",
        "\n",
        "oldest = max(age1, age2, age3)\n",
        "youngest = min(age1, age2, age3)\n",
        "\n",
        "print(f\"The oldest age is: {oldest}\")\n",
        "print(f\"The youngest age is: {youngest}\")\n"
      ],
      "metadata": {
        "colab": {
          "base_uri": "https://localhost:8080/"
        },
        "id": "oyu6rg6Vxu3l",
        "outputId": "86e3520b-5fdd-486c-805f-b8ec23a412b3"
      },
      "execution_count": null,
      "outputs": [
        {
          "output_type": "stream",
          "name": "stdout",
          "text": [
            "Enter age of person 1: 50\n",
            "Enter age of person 2: 45\n",
            "Enter age of person 3: 30\n",
            "The oldest age is: 50\n",
            "The youngest age is: 30\n"
          ]
        }
      ]
    },
    {
      "cell_type": "code",
      "source": [],
      "metadata": {
        "id": "wdAndJPMxzZH"
      },
      "execution_count": null,
      "outputs": []
    }
  ]
}